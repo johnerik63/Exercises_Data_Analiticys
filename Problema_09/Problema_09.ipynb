{
 "cells": [
  {
   "cell_type": "markdown",
   "metadata": {},
   "source": [
    "<img src=\"Problema_09.png\" width=900 heigth=500>"
   ]
  },
  {
   "cell_type": "code",
   "execution_count": 1,
   "metadata": {},
   "outputs": [],
   "source": [
    "import pandas as pd\n",
    "import matplotlib.pyplot as plt"
   ]
  },
  {
   "cell_type": "code",
   "execution_count": 2,
   "metadata": {},
   "outputs": [],
   "source": [
    "dados_temperaturas = {\n",
    "    \"Mês\": [\"Janeiro\", \"Fevereiro\", \"Março\", \"Abril\", \"Maio\", \"Junho\"],\n",
    "    \"Cidade X\": [30.0, 29.5, 28.0, 27.5, 26.0, 25.5],\n",
    "    \"Cidade Y\": [25.0, 24.8, 24.0, 23.5, 22.5, 21.5],\n",
    "    \"Cidade Z\": [20.0, 20.5, 21.0, 22.0, 23.0, 23.5]\n",
    "}"
   ]
  }
 ],
 "metadata": {
  "kernelspec": {
   "display_name": "Python 3",
   "language": "python",
   "name": "python3"
  },
  "language_info": {
   "codemirror_mode": {
    "name": "ipython",
    "version": 3
   },
   "file_extension": ".py",
   "mimetype": "text/x-python",
   "name": "python",
   "nbconvert_exporter": "python",
   "pygments_lexer": "ipython3",
   "version": "3.12.0"
  }
 },
 "nbformat": 4,
 "nbformat_minor": 2
}
