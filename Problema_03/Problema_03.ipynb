{
 "cells": [
  {
   "cell_type": "markdown",
   "metadata": {},
   "source": [
    "<img src=\"Problema_03.png\" width=900 heigth=500>"
   ]
  },
  {
   "cell_type": "code",
   "execution_count": 2,
   "metadata": {},
   "outputs": [],
   "source": [
    "import pandas as pd\n",
    "import matplotlib.pyplot as plt"
   ]
  },
  {
   "cell_type": "code",
   "execution_count": 4,
   "metadata": {},
   "outputs": [
    {
     "data": {
      "text/html": [
       "<div>\n",
       "<style scoped>\n",
       "    .dataframe tbody tr th:only-of-type {\n",
       "        vertical-align: middle;\n",
       "    }\n",
       "\n",
       "    .dataframe tbody tr th {\n",
       "        vertical-align: top;\n",
       "    }\n",
       "\n",
       "    .dataframe thead th {\n",
       "        text-align: right;\n",
       "    }\n",
       "</style>\n",
       "<table border=\"1\" class=\"dataframe\">\n",
       "  <thead>\n",
       "    <tr style=\"text-align: right;\">\n",
       "      <th></th>\n",
       "      <th>Aluno A</th>\n",
       "      <th>Aluno B</th>\n",
       "      <th>Aluno C</th>\n",
       "      <th>Aluno D</th>\n",
       "      <th>Aluno E</th>\n",
       "    </tr>\n",
       "  </thead>\n",
       "  <tbody>\n",
       "    <tr>\n",
       "      <th>Matemática</th>\n",
       "      <td>85</td>\n",
       "      <td>78</td>\n",
       "      <td>92</td>\n",
       "      <td>65</td>\n",
       "      <td>88</td>\n",
       "    </tr>\n",
       "    <tr>\n",
       "      <th>Física</th>\n",
       "      <td>90</td>\n",
       "      <td>85</td>\n",
       "      <td>88</td>\n",
       "      <td>75</td>\n",
       "      <td>92</td>\n",
       "    </tr>\n",
       "    <tr>\n",
       "      <th>Química</th>\n",
       "      <td>88</td>\n",
       "      <td>80</td>\n",
       "      <td>91</td>\n",
       "      <td>70</td>\n",
       "      <td>86</td>\n",
       "    </tr>\n",
       "  </tbody>\n",
       "</table>\n",
       "</div>"
      ],
      "text/plain": [
       "            Aluno A  Aluno B  Aluno C  Aluno D  Aluno E\n",
       "Matemática       85       78       92       65       88\n",
       "Física           90       85       88       75       92\n",
       "Química          88       80       91       70       86"
      ]
     },
     "metadata": {},
     "output_type": "display_data"
    }
   ],
   "source": [
    "notas_alunos = {\n",
    "    \"Aluno A\": {\"Matemática\": 85, \"Física\": 90, \"Química\": 88},\n",
    "    \"Aluno B\": {\"Matemática\": 78, \"Física\": 85, \"Química\": 80},\n",
    "    \"Aluno C\": {\"Matemática\": 92, \"Física\": 88, \"Química\": 91},\n",
    "    \"Aluno D\": {\"Matemática\": 65, \"Física\": 75, \"Química\": 70},\n",
    "    \"Aluno E\": {\"Matemática\": 88, \"Física\": 92, \"Química\": 86}\n",
    "}\n",
    "\n",
    "df_notas = pd.DataFrame(notas_alunos)\n",
    "display(df_notas)"
   ]
  },
  {
   "cell_type": "markdown",
   "metadata": {},
   "source": [
    "### 1. Qual obteve a maior média geral entre as três matérias?"
   ]
  },
  {
   "cell_type": "code",
   "execution_count": 53,
   "metadata": {},
   "outputs": [
    {
     "name": "stdout",
     "output_type": "stream",
     "text": [
      "A materia com maior media foi Física com 86.0 de media das notas.\n"
     ]
    }
   ],
   "source": [
    "df = df_notas.T\n",
    "for materia, media in (df.mean()).items():\n",
    "    if media == df.mean().max():\n",
    "        print(f\"A materia com maior media foi {materia} com {media} de media das notas.\")"
   ]
  },
  {
   "cell_type": "markdown",
   "metadata": {},
   "source": [
    "### 2. Plote um grafico da media de todos os alunos destacando a maior média.\n"
   ]
  },
  {
   "cell_type": "code",
   "execution_count": 94,
   "metadata": {},
   "outputs": [
    {
     "data": {
      "text/plain": [
       "<Axes: title={'center': 'Media dos Alunos x Aluno'}, xlabel='Alunos', ylabel='Media dos Alunos'>"
      ]
     },
     "execution_count": 94,
     "metadata": {},
     "output_type": "execute_result"
    },
    {
     "data": {
      "image/png": "[encoded data removed]",
      "text/plain": [
       "<Figure size 640x480 with 1 Axes>"
      ]
     },
     "metadata": {},
     "output_type": "display_data"
    }
   ],
   "source": [
    "plt.title(\"Media dos Alunos x Aluno\")\n",
    "plt.xlabel(\"Alunos\")\n",
    "plt.ylabel(\"Media dos Alunos\")\n",
    "media_notas = df_notas.mean()\n",
    "max_media = df_notas.mean().max()\n",
    "colors = [\"blue\" if media < max_media else 'red' for media in media_notas] \n",
    "df_notas.mean().plot(kind=\"bar\", color=colors)\n",
    "    "
   ]
  },
  {
   "cell_type": "markdown",
   "metadata": {},
   "source": [
    "### 3. Qual foi a diferença entre a nota de Matemática do Aluno C e a do Aluno D??"
   ]
  },
  {
   "cell_type": "code",
   "execution_count": 79,
   "metadata": {},
   "outputs": [
    {
     "name": "stdout",
     "output_type": "stream",
     "text": [
      "A diferenca entre as notas de Matemática do Aluno C e D é 27.\n"
     ]
    }
   ],
   "source": [
    "\n",
    "diferenca_nota_MT = df.iloc[2, 0] - df.iloc[3,0]\n",
    "\n",
    "print(f\"A diferenca entre as notas de Matemática do Aluno C e D é {diferenca_nota_MT}.\")\n",
    "\n"
   ]
  }
 ],
 "metadata": {
  "kernelspec": {
   "display_name": "Python 3",
   "language": "python",
   "name": "python3"
  },
  "language_info": {
   "codemirror_mode": {
    "name": "ipython",
    "version": 3
   },
   "file_extension": ".py",
   "mimetype": "text/x-python",
   "name": "python",
   "nbconvert_exporter": "python",
   "pygments_lexer": "ipython3",
   "version": "3.12.6"
  }
 },
 "nbformat": 4,
 "nbformat_minor": 2
}
