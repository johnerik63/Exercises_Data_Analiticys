{
 "cells": [
  {
   "cell_type": "markdown",
   "metadata": {},
   "source": [
    "<img src=\"Problema_01.png\" width=900 heigth=500>"
   ]
  },
  {
   "cell_type": "code",
   "execution_count": 2,
   "metadata": {},
   "outputs": [],
   "source": [
    "import pandas as pd"
   ]
  },
  {
   "cell_type": "code",
   "execution_count": 4,
   "metadata": {},
   "outputs": [
    {
     "data": {
      "text/html": [
       "<div>\n",
       "<style scoped>\n",
       "    .dataframe tbody tr th:only-of-type {\n",
       "        vertical-align: middle;\n",
       "    }\n",
       "\n",
       "    .dataframe tbody tr th {\n",
       "        vertical-align: top;\n",
       "    }\n",
       "\n",
       "    .dataframe thead th {\n",
       "        text-align: right;\n",
       "    }\n",
       "</style>\n",
       "<table border=\"1\" class=\"dataframe\">\n",
       "  <thead>\n",
       "    <tr style=\"text-align: right;\">\n",
       "      <th></th>\n",
       "      <th>Produto A</th>\n",
       "      <th>Produto B</th>\n",
       "      <th>Produto C</th>\n",
       "      <th>Produto D</th>\n",
       "      <th>Produto E</th>\n",
       "    </tr>\n",
       "  </thead>\n",
       "  <tbody>\n",
       "    <tr>\n",
       "      <th>Janeiro</th>\n",
       "      <td>120</td>\n",
       "      <td>80</td>\n",
       "      <td>200</td>\n",
       "      <td>50</td>\n",
       "      <td>140</td>\n",
       "    </tr>\n",
       "    <tr>\n",
       "      <th>Fevereiro</th>\n",
       "      <td>150</td>\n",
       "      <td>95</td>\n",
       "      <td>180</td>\n",
       "      <td>70</td>\n",
       "      <td>160</td>\n",
       "    </tr>\n",
       "    <tr>\n",
       "      <th>Março</th>\n",
       "      <td>130</td>\n",
       "      <td>100</td>\n",
       "      <td>190</td>\n",
       "      <td>65</td>\n",
       "      <td>150</td>\n",
       "    </tr>\n",
       "  </tbody>\n",
       "</table>\n",
       "</div>"
      ],
      "text/plain": [
       "           Produto A  Produto B  Produto C  Produto D  Produto E\n",
       "Janeiro          120         80        200         50        140\n",
       "Fevereiro        150         95        180         70        160\n",
       "Março            130        100        190         65        150"
      ]
     },
     "metadata": {},
     "output_type": "display_data"
    }
   ],
   "source": [
    "vendas_produtos = {\n",
    "    \"Produto A\": {\"Janeiro\": 120, \"Fevereiro\": 150, \"Março\": 130},\n",
    "    \"Produto B\": {\"Janeiro\": 80, \"Fevereiro\": 95, \"Março\": 100},\n",
    "    \"Produto C\": {\"Janeiro\": 200, \"Fevereiro\": 180, \"Março\": 190},\n",
    "    \"Produto D\": {\"Janeiro\": 50, \"Fevereiro\": 70, \"Março\": 65},\n",
    "    \"Produto E\": {\"Janeiro\": 140, \"Fevereiro\": 160, \"Março\": 150}\n",
    "}\n",
    "\n",
    "vendas_df = pd.DataFrame(vendas_produtos)\n",
    "display(vendas_df)"
   ]
  },
  {
   "cell_type": "markdown",
   "metadata": {},
   "source": [
    "### 1. Qual produto teve a maior variação de vendas entre janeiro e março??"
   ]
  },
  {
   "cell_type": "code",
   "execution_count": 15,
   "metadata": {},
   "outputs": [
    {
     "data": {
      "text/html": [
       "<div>\n",
       "<style scoped>\n",
       "    .dataframe tbody tr th:only-of-type {\n",
       "        vertical-align: middle;\n",
       "    }\n",
       "\n",
       "    .dataframe tbody tr th {\n",
       "        vertical-align: top;\n",
       "    }\n",
       "\n",
       "    .dataframe thead th {\n",
       "        text-align: right;\n",
       "    }\n",
       "</style>\n",
       "<table border=\"1\" class=\"dataframe\">\n",
       "  <thead>\n",
       "    <tr style=\"text-align: right;\">\n",
       "      <th></th>\n",
       "      <th>Janeiro</th>\n",
       "      <th>Fevereiro</th>\n",
       "      <th>Março</th>\n",
       "    </tr>\n",
       "  </thead>\n",
       "  <tbody>\n",
       "    <tr>\n",
       "      <th>Produto A</th>\n",
       "      <td>120</td>\n",
       "      <td>150</td>\n",
       "      <td>130</td>\n",
       "    </tr>\n",
       "    <tr>\n",
       "      <th>Produto B</th>\n",
       "      <td>80</td>\n",
       "      <td>95</td>\n",
       "      <td>100</td>\n",
       "    </tr>\n",
       "    <tr>\n",
       "      <th>Produto C</th>\n",
       "      <td>200</td>\n",
       "      <td>180</td>\n",
       "      <td>190</td>\n",
       "    </tr>\n",
       "    <tr>\n",
       "      <th>Produto D</th>\n",
       "      <td>50</td>\n",
       "      <td>70</td>\n",
       "      <td>65</td>\n",
       "    </tr>\n",
       "    <tr>\n",
       "      <th>Produto E</th>\n",
       "      <td>140</td>\n",
       "      <td>160</td>\n",
       "      <td>150</td>\n",
       "    </tr>\n",
       "  </tbody>\n",
       "</table>\n",
       "</div>"
      ],
      "text/plain": [
       "           Janeiro  Fevereiro  Março\n",
       "Produto A      120        150    130\n",
       "Produto B       80         95    100\n",
       "Produto C      200        180    190\n",
       "Produto D       50         70     65\n",
       "Produto E      140        160    150"
      ]
     },
     "metadata": {},
     "output_type": "display_data"
    }
   ],
   "source": [
    "vendas_T = vendas_df.T\n",
    "display(vendas_T)"
   ]
  },
  {
   "cell_type": "code",
   "execution_count": 24,
   "metadata": {},
   "outputs": [
    {
     "data": {
      "text/html": [
       "<div>\n",
       "<style scoped>\n",
       "    .dataframe tbody tr th:only-of-type {\n",
       "        vertical-align: middle;\n",
       "    }\n",
       "\n",
       "    .dataframe tbody tr th {\n",
       "        vertical-align: top;\n",
       "    }\n",
       "\n",
       "    .dataframe thead th {\n",
       "        text-align: right;\n",
       "    }\n",
       "</style>\n",
       "<table border=\"1\" class=\"dataframe\">\n",
       "  <thead>\n",
       "    <tr style=\"text-align: right;\">\n",
       "      <th></th>\n",
       "      <th>Janeiro</th>\n",
       "      <th>Fevereiro</th>\n",
       "      <th>Março</th>\n",
       "      <th>Variação Janeiro-Março</th>\n",
       "    </tr>\n",
       "  </thead>\n",
       "  <tbody>\n",
       "    <tr>\n",
       "      <th>Produto A</th>\n",
       "      <td>120</td>\n",
       "      <td>150</td>\n",
       "      <td>130</td>\n",
       "      <td>10</td>\n",
       "    </tr>\n",
       "    <tr>\n",
       "      <th>Produto B</th>\n",
       "      <td>80</td>\n",
       "      <td>95</td>\n",
       "      <td>100</td>\n",
       "      <td>20</td>\n",
       "    </tr>\n",
       "    <tr>\n",
       "      <th>Produto C</th>\n",
       "      <td>200</td>\n",
       "      <td>180</td>\n",
       "      <td>190</td>\n",
       "      <td>-10</td>\n",
       "    </tr>\n",
       "    <tr>\n",
       "      <th>Produto D</th>\n",
       "      <td>50</td>\n",
       "      <td>70</td>\n",
       "      <td>65</td>\n",
       "      <td>15</td>\n",
       "    </tr>\n",
       "    <tr>\n",
       "      <th>Produto E</th>\n",
       "      <td>140</td>\n",
       "      <td>160</td>\n",
       "      <td>150</td>\n",
       "      <td>10</td>\n",
       "    </tr>\n",
       "  </tbody>\n",
       "</table>\n",
       "</div>"
      ],
      "text/plain": [
       "           Janeiro  Fevereiro  Março  Variação Janeiro-Março\n",
       "Produto A      120        150    130                      10\n",
       "Produto B       80         95    100                      20\n",
       "Produto C      200        180    190                     -10\n",
       "Produto D       50         70     65                      15\n",
       "Produto E      140        160    150                      10"
      ]
     },
     "metadata": {},
     "output_type": "display_data"
    },
    {
     "name": "stdout",
     "output_type": "stream",
     "text": [
      "A variação máxima entre os meses de Janeiro e Março é: 20\n",
      "O produto com variação máxima entre os meses de Janeiro e Março é: Produto B\n"
     ]
    }
   ],
   "source": [
    "vendas_T['Variação Janeiro-Março'] = vendas_T['Março'] - vendas_T['Janeiro']\n",
    "display(vendas_T)\n",
    "max = vendas_T['Variação Janeiro-Março'].max()\n",
    "produto_max = vendas_T['Variação Janeiro-Março'].idxmax()\n",
    "print(f'A variação máxima entre os meses de Janeiro e Março é: {max}')\n",
    "print(f'O produto com variação máxima entre os meses de Janeiro e Março é: {produto_max}')"
   ]
  },
  {
   "cell_type": "markdown",
   "metadata": {},
   "source": [
    "### 2. Qual o produto mais vendido no trimestre??"
   ]
  },
  {
   "cell_type": "code",
   "execution_count": 85,
   "metadata": {},
   "outputs": [
    {
     "data": {
      "text/html": [
       "<div>\n",
       "<style scoped>\n",
       "    .dataframe tbody tr th:only-of-type {\n",
       "        vertical-align: middle;\n",
       "    }\n",
       "\n",
       "    .dataframe tbody tr th {\n",
       "        vertical-align: top;\n",
       "    }\n",
       "\n",
       "    .dataframe thead th {\n",
       "        text-align: right;\n",
       "    }\n",
       "</style>\n",
       "<table border=\"1\" class=\"dataframe\">\n",
       "  <thead>\n",
       "    <tr style=\"text-align: right;\">\n",
       "      <th></th>\n",
       "      <th>Janeiro</th>\n",
       "      <th>Fevereiro</th>\n",
       "      <th>Março</th>\n",
       "      <th>Variação Janeiro-Março</th>\n",
       "      <th>Total Vendas</th>\n",
       "    </tr>\n",
       "  </thead>\n",
       "  <tbody>\n",
       "    <tr>\n",
       "      <th>Produto A</th>\n",
       "      <td>120</td>\n",
       "      <td>150</td>\n",
       "      <td>130</td>\n",
       "      <td>0</td>\n",
       "      <td>400</td>\n",
       "    </tr>\n",
       "    <tr>\n",
       "      <th>Produto B</th>\n",
       "      <td>80</td>\n",
       "      <td>95</td>\n",
       "      <td>100</td>\n",
       "      <td>0</td>\n",
       "      <td>275</td>\n",
       "    </tr>\n",
       "    <tr>\n",
       "      <th>Produto C</th>\n",
       "      <td>200</td>\n",
       "      <td>180</td>\n",
       "      <td>190</td>\n",
       "      <td>0</td>\n",
       "      <td>570</td>\n",
       "    </tr>\n",
       "    <tr>\n",
       "      <th>Produto D</th>\n",
       "      <td>50</td>\n",
       "      <td>70</td>\n",
       "      <td>65</td>\n",
       "      <td>0</td>\n",
       "      <td>185</td>\n",
       "    </tr>\n",
       "    <tr>\n",
       "      <th>Produto E</th>\n",
       "      <td>140</td>\n",
       "      <td>160</td>\n",
       "      <td>150</td>\n",
       "      <td>0</td>\n",
       "      <td>450</td>\n",
       "    </tr>\n",
       "  </tbody>\n",
       "</table>\n",
       "</div>"
      ],
      "text/plain": [
       "           Janeiro  Fevereiro  Março  Variação Janeiro-Março  Total Vendas\n",
       "Produto A      120        150    130                       0           400\n",
       "Produto B       80         95    100                       0           275\n",
       "Produto C      200        180    190                       0           570\n",
       "Produto D       50         70     65                       0           185\n",
       "Produto E      140        160    150                       0           450"
      ]
     },
     "metadata": {},
     "output_type": "display_data"
    },
    {
     "name": "stdout",
     "output_type": "stream",
     "text": [
      "O produto mais vendido no trimestre foi o Produto C com um total de 570 vendidos no semestre\n"
     ]
    }
   ],
   "source": [
    "# primeiro passo é pegar o total de vendas de cada produto no trimestre \n",
    "\n",
    "vendas_T['Total Vendas'] = 0\n",
    "vendas_T['Variação Janeiro-Março'] = 0\n",
    "vendas_T['Total Vendas'] = vendas_T.sum(axis=1)\n",
    "display(vendas_T)\n",
    "produto_max = vendas_T['Total Vendas'].idxmax()\n",
    "valor_max = vendas_T['Total Vendas'].max()\n",
    "\n",
    "print(f'O produto mais vendido no trimestre foi o {produto_max} com um total de {valor_max} vendidos no semestre')"
   ]
  },
  {
   "cell_type": "markdown",
   "metadata": {},
   "source": [
    "### 3. Qual foi o total de vendas em Fevereiro??"
   ]
  },
  {
   "cell_type": "code",
   "execution_count": 91,
   "metadata": {},
   "outputs": [
    {
     "data": {
      "text/html": [
       "<div>\n",
       "<style scoped>\n",
       "    .dataframe tbody tr th:only-of-type {\n",
       "        vertical-align: middle;\n",
       "    }\n",
       "\n",
       "    .dataframe tbody tr th {\n",
       "        vertical-align: top;\n",
       "    }\n",
       "\n",
       "    .dataframe thead th {\n",
       "        text-align: right;\n",
       "    }\n",
       "</style>\n",
       "<table border=\"1\" class=\"dataframe\">\n",
       "  <thead>\n",
       "    <tr style=\"text-align: right;\">\n",
       "      <th></th>\n",
       "      <th>Janeiro</th>\n",
       "      <th>Fevereiro</th>\n",
       "      <th>Março</th>\n",
       "      <th>Variação Janeiro-Março</th>\n",
       "      <th>Total Vendas</th>\n",
       "    </tr>\n",
       "  </thead>\n",
       "  <tbody>\n",
       "    <tr>\n",
       "      <th>Produto A</th>\n",
       "      <td>120</td>\n",
       "      <td>150</td>\n",
       "      <td>130</td>\n",
       "      <td>0</td>\n",
       "      <td>400</td>\n",
       "    </tr>\n",
       "    <tr>\n",
       "      <th>Produto B</th>\n",
       "      <td>80</td>\n",
       "      <td>95</td>\n",
       "      <td>100</td>\n",
       "      <td>0</td>\n",
       "      <td>275</td>\n",
       "    </tr>\n",
       "    <tr>\n",
       "      <th>Produto C</th>\n",
       "      <td>200</td>\n",
       "      <td>180</td>\n",
       "      <td>190</td>\n",
       "      <td>0</td>\n",
       "      <td>570</td>\n",
       "    </tr>\n",
       "    <tr>\n",
       "      <th>Produto D</th>\n",
       "      <td>50</td>\n",
       "      <td>70</td>\n",
       "      <td>65</td>\n",
       "      <td>0</td>\n",
       "      <td>185</td>\n",
       "    </tr>\n",
       "    <tr>\n",
       "      <th>Produto E</th>\n",
       "      <td>140</td>\n",
       "      <td>160</td>\n",
       "      <td>150</td>\n",
       "      <td>0</td>\n",
       "      <td>450</td>\n",
       "    </tr>\n",
       "  </tbody>\n",
       "</table>\n",
       "</div>"
      ],
      "text/plain": [
       "           Janeiro  Fevereiro  Março  Variação Janeiro-Março  Total Vendas\n",
       "Produto A      120        150    130                       0           400\n",
       "Produto B       80         95    100                       0           275\n",
       "Produto C      200        180    190                       0           570\n",
       "Produto D       50         70     65                       0           185\n",
       "Produto E      140        160    150                       0           450"
      ]
     },
     "metadata": {},
     "output_type": "display_data"
    },
    {
     "name": "stdout",
     "output_type": "stream",
     "text": [
      "O total de vendas em Fevereiro foi de 655.\n"
     ]
    }
   ],
   "source": [
    "display(vendas_T)\n",
    "\n",
    "sum_fevereiro = vendas_T['Fevereiro'].sum()\n",
    "\n",
    "print(f'O total de vendas em Fevereiro foi de {sum_fevereiro}.')"
   ]
  }
 ],
 "metadata": {
  "kernelspec": {
   "display_name": "Python 3",
   "language": "python",
   "name": "python3"
  },
  "language_info": {
   "codemirror_mode": {
    "name": "ipython",
    "version": 3
   },
   "file_extension": ".py",
   "mimetype": "text/x-python",
   "name": "python",
   "nbconvert_exporter": "python",
   "pygments_lexer": "ipython3",
   "version": "3.12.0"
  }
 },
 "nbformat": 4,
 "nbformat_minor": 2
}
