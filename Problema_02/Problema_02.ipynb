{
 "cells": [
  {
   "cell_type": "markdown",
   "metadata": {},
   "source": [
    "<img src=\"Problema_02.png\" width=800 heigth=500>"
   ]
  },
  {
   "cell_type": "code",
   "execution_count": 71,
   "metadata": {},
   "outputs": [],
   "source": [
    "import pandas as pd\n",
    "import matplotlib.pyplot as plt"
   ]
  },
  {
   "cell_type": "markdown",
   "metadata": {},
   "source": [
    "### 1. Qual a cidade teve menor média de temperatura em Abril??"
   ]
  },
  {
   "cell_type": "code",
   "execution_count": 74,
   "metadata": {},
   "outputs": [
    {
     "data": {
      "text/html": [
       "<div>\n",
       "<style scoped>\n",
       "    .dataframe tbody tr th:only-of-type {\n",
       "        vertical-align: middle;\n",
       "    }\n",
       "\n",
       "    .dataframe tbody tr th {\n",
       "        vertical-align: top;\n",
       "    }\n",
       "\n",
       "    .dataframe thead th {\n",
       "        text-align: right;\n",
       "    }\n",
       "</style>\n",
       "<table border=\"1\" class=\"dataframe\">\n",
       "  <thead>\n",
       "    <tr style=\"text-align: right;\">\n",
       "      <th></th>\n",
       "      <th>Cidade A</th>\n",
       "      <th>Cidade B</th>\n",
       "      <th>Cidade C</th>\n",
       "      <th>Cidade D</th>\n",
       "      <th>Cidade E</th>\n",
       "    </tr>\n",
       "  </thead>\n",
       "  <tbody>\n",
       "    <tr>\n",
       "      <th>Janeiro</th>\n",
       "      <td>30</td>\n",
       "      <td>25</td>\n",
       "      <td>22</td>\n",
       "      <td>18</td>\n",
       "      <td>35</td>\n",
       "    </tr>\n",
       "    <tr>\n",
       "      <th>Fevereiro</th>\n",
       "      <td>32</td>\n",
       "      <td>26</td>\n",
       "      <td>23</td>\n",
       "      <td>20</td>\n",
       "      <td>34</td>\n",
       "    </tr>\n",
       "    <tr>\n",
       "      <th>Março</th>\n",
       "      <td>29</td>\n",
       "      <td>24</td>\n",
       "      <td>21</td>\n",
       "      <td>19</td>\n",
       "      <td>33</td>\n",
       "    </tr>\n",
       "    <tr>\n",
       "      <th>Abril</th>\n",
       "      <td>31</td>\n",
       "      <td>27</td>\n",
       "      <td>24</td>\n",
       "      <td>21</td>\n",
       "      <td>36</td>\n",
       "    </tr>\n",
       "  </tbody>\n",
       "</table>\n",
       "</div>"
      ],
      "text/plain": [
       "           Cidade A  Cidade B  Cidade C  Cidade D  Cidade E\n",
       "Janeiro          30        25        22        18        35\n",
       "Fevereiro        32        26        23        20        34\n",
       "Março            29        24        21        19        33\n",
       "Abril            31        27        24        21        36"
      ]
     },
     "metadata": {},
     "output_type": "display_data"
    }
   ],
   "source": [
    "temperaturas_cidades = {\n",
    "    \"Cidade A\": {\"Janeiro\": 30, \"Fevereiro\": 32, \"Março\": 29, \"Abril\": 31},\n",
    "    \"Cidade B\": {\"Janeiro\": 25, \"Fevereiro\": 26, \"Março\": 24, \"Abril\": 27},\n",
    "    \"Cidade C\": {\"Janeiro\": 22, \"Fevereiro\": 23, \"Março\": 21, \"Abril\": 24},\n",
    "    \"Cidade D\": {\"Janeiro\": 18, \"Fevereiro\": 20, \"Março\": 19, \"Abril\": 21},\n",
    "    \"Cidade E\": {\"Janeiro\": 35, \"Fevereiro\": 34, \"Março\": 33, \"Abril\": 36}\n",
    "}\n",
    "\n",
    "temperaturas_df = pd.DataFrame(temperaturas_cidades)\n",
    "display(temperaturas_df)"
   ]
  },
  {
   "cell_type": "code",
   "execution_count": 16,
   "metadata": {},
   "outputs": [
    {
     "data": {
      "text/html": [
       "<div>\n",
       "<style scoped>\n",
       "    .dataframe tbody tr th:only-of-type {\n",
       "        vertical-align: middle;\n",
       "    }\n",
       "\n",
       "    .dataframe tbody tr th {\n",
       "        vertical-align: top;\n",
       "    }\n",
       "\n",
       "    .dataframe thead th {\n",
       "        text-align: right;\n",
       "    }\n",
       "</style>\n",
       "<table border=\"1\" class=\"dataframe\">\n",
       "  <thead>\n",
       "    <tr style=\"text-align: right;\">\n",
       "      <th></th>\n",
       "      <th>Janeiro</th>\n",
       "      <th>Fevereiro</th>\n",
       "      <th>Março</th>\n",
       "      <th>Abril</th>\n",
       "    </tr>\n",
       "  </thead>\n",
       "  <tbody>\n",
       "    <tr>\n",
       "      <th>Cidade A</th>\n",
       "      <td>30</td>\n",
       "      <td>32</td>\n",
       "      <td>29</td>\n",
       "      <td>31</td>\n",
       "    </tr>\n",
       "    <tr>\n",
       "      <th>Cidade B</th>\n",
       "      <td>25</td>\n",
       "      <td>26</td>\n",
       "      <td>24</td>\n",
       "      <td>27</td>\n",
       "    </tr>\n",
       "    <tr>\n",
       "      <th>Cidade C</th>\n",
       "      <td>22</td>\n",
       "      <td>23</td>\n",
       "      <td>21</td>\n",
       "      <td>24</td>\n",
       "    </tr>\n",
       "    <tr>\n",
       "      <th>Cidade D</th>\n",
       "      <td>18</td>\n",
       "      <td>20</td>\n",
       "      <td>19</td>\n",
       "      <td>21</td>\n",
       "    </tr>\n",
       "    <tr>\n",
       "      <th>Cidade E</th>\n",
       "      <td>35</td>\n",
       "      <td>34</td>\n",
       "      <td>33</td>\n",
       "      <td>36</td>\n",
       "    </tr>\n",
       "  </tbody>\n",
       "</table>\n",
       "</div>"
      ],
      "text/plain": [
       "          Janeiro  Fevereiro  Março  Abril\n",
       "Cidade A       30         32     29     31\n",
       "Cidade B       25         26     24     27\n",
       "Cidade C       22         23     21     24\n",
       "Cidade D       18         20     19     21\n",
       "Cidade E       35         34     33     36"
      ]
     },
     "metadata": {},
     "output_type": "display_data"
    }
   ],
   "source": [
    "temp_df = temperaturas_df.T\n",
    "display(temp_df)"
   ]
  },
  {
   "cell_type": "code",
   "execution_count": 21,
   "metadata": {},
   "outputs": [
    {
     "name": "stdout",
     "output_type": "stream",
     "text": [
      "A menor temperatura média no mês de Abril nas cidades é 21.\n"
     ]
    }
   ],
   "source": [
    "min_temp = temp_df['Abril'].min()\n",
    "print(f'A menor temperatura média no mês de Abril nas cidades é {min_temp}.')"
   ]
  },
  {
   "cell_type": "markdown",
   "metadata": {},
   "source": [
    "### 2. Qual cidade apresentou a maior média de temperatura ao logo dos 4 meses??"
   ]
  },
  {
   "cell_type": "code",
   "execution_count": 63,
   "metadata": {},
   "outputs": [
    {
     "data": {
      "text/html": [
       "<div>\n",
       "<style scoped>\n",
       "    .dataframe tbody tr th:only-of-type {\n",
       "        vertical-align: middle;\n",
       "    }\n",
       "\n",
       "    .dataframe tbody tr th {\n",
       "        vertical-align: top;\n",
       "    }\n",
       "\n",
       "    .dataframe thead th {\n",
       "        text-align: right;\n",
       "    }\n",
       "</style>\n",
       "<table border=\"1\" class=\"dataframe\">\n",
       "  <thead>\n",
       "    <tr style=\"text-align: right;\">\n",
       "      <th></th>\n",
       "      <th>Cidade A</th>\n",
       "      <th>Cidade B</th>\n",
       "      <th>Cidade C</th>\n",
       "      <th>Cidade D</th>\n",
       "      <th>Cidade E</th>\n",
       "    </tr>\n",
       "  </thead>\n",
       "  <tbody>\n",
       "    <tr>\n",
       "      <th>Janeiro</th>\n",
       "      <td>30</td>\n",
       "      <td>25</td>\n",
       "      <td>22</td>\n",
       "      <td>18</td>\n",
       "      <td>35</td>\n",
       "    </tr>\n",
       "    <tr>\n",
       "      <th>Fevereiro</th>\n",
       "      <td>32</td>\n",
       "      <td>26</td>\n",
       "      <td>23</td>\n",
       "      <td>20</td>\n",
       "      <td>34</td>\n",
       "    </tr>\n",
       "    <tr>\n",
       "      <th>Março</th>\n",
       "      <td>29</td>\n",
       "      <td>24</td>\n",
       "      <td>21</td>\n",
       "      <td>19</td>\n",
       "      <td>33</td>\n",
       "    </tr>\n",
       "    <tr>\n",
       "      <th>Abril</th>\n",
       "      <td>31</td>\n",
       "      <td>27</td>\n",
       "      <td>24</td>\n",
       "      <td>21</td>\n",
       "      <td>36</td>\n",
       "    </tr>\n",
       "  </tbody>\n",
       "</table>\n",
       "</div>"
      ],
      "text/plain": [
       "           Cidade A  Cidade B  Cidade C  Cidade D  Cidade E\n",
       "Janeiro          30        25        22        18        35\n",
       "Fevereiro        32        26        23        20        34\n",
       "Março            29        24        21        19        33\n",
       "Abril            31        27        24        21        36"
      ]
     },
     "metadata": {},
     "output_type": "display_data"
    }
   ],
   "source": [
    "display(temperaturas_df)"
   ]
  },
  {
   "cell_type": "code",
   "execution_count": 62,
   "metadata": {},
   "outputs": [
    {
     "name": "stdout",
     "output_type": "stream",
     "text": [
      "A Cidade E tem maior média de temperatura com 34.5°.\n"
     ]
    }
   ],
   "source": [
    "med_temp = temperaturas_df.mean()\n",
    "cidade_mais_quente = med_temp.idxmax()\n",
    "media_temp_max = med_temp.max()\n",
    "\n",
    "print(f'A {cidade_mais_quente} tem maior média de temperatura com {media_temp_max}°.')\n",
    "\n",
    "        \n"
   ]
  },
  {
   "cell_type": "markdown",
   "metadata": {},
   "source": [
    "### 3. Qual a diferença entre as médias das temperaturas da Cidade A e Cidade D??"
   ]
  },
  {
   "cell_type": "code",
   "execution_count": 70,
   "metadata": {},
   "outputs": [
    {
     "name": "stdout",
     "output_type": "stream",
     "text": [
      "30.5 19.5\n",
      "A diferença entre a média das temperaturas das cidades A e D é 11.0°\n"
     ]
    }
   ],
   "source": [
    "med_cidade_A = temperaturas_df['Cidade A'].mean()\n",
    "med_cidade_D = temperaturas_df['Cidade D'].mean()\n",
    "\n",
    "print(med_cidade_A, med_cidade_D)\n",
    "\n",
    "diferenca_medias = med_cidade_D - med_cidade_A\n",
    "\n",
    "print(f'A diferença entre a média das temperaturas das cidades A e D é {abs(diferenca_medias)}°')"
   ]
  },
  {
   "cell_type": "code",
   "execution_count": 81,
   "metadata": {},
   "outputs": [
    {
     "data": {
      "image/png": "[encoded data removed]",
      "text/plain": [
       "<Figure size 640x480 with 1 Axes>"
      ]
     },
     "metadata": {},
     "output_type": "display_data"
    }
   ],
   "source": [
    "temperaturas_df.plot(kind='bar')\n",
    "plt.title('Médias de Temperaturas por Cidade ao Longo dos Meses')\n",
    "plt.xlabel('Meses')\n",
    "plt.ylabel('Temperatura (C°)')\n",
    "plt.legend(title='Cidades')\n",
    "plt.show()"
   ]
  }
 ],
 "metadata": {
  "kernelspec": {
   "display_name": "Python 3",
   "language": "python",
   "name": "python3"
  },
  "language_info": {
   "codemirror_mode": {
    "name": "ipython",
    "version": 3
   },
   "file_extension": ".py",
   "mimetype": "text/x-python",
   "name": "python",
   "nbconvert_exporter": "python",
   "pygments_lexer": "ipython3",
   "version": "3.12.0"
  }
 },
 "nbformat": 4,
 "nbformat_minor": 2
}
