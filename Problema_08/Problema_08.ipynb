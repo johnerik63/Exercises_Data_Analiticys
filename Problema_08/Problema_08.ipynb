{
 "cells": [
  {
   "cell_type": "markdown",
   "metadata": {},
   "source": [
    "<img src=\"Problema_08.png\" width=900 heigth=500>"
   ]
  },
  {
   "cell_type": "code",
   "execution_count": 2,
   "metadata": {},
   "outputs": [],
   "source": [
    "import pandas as pd\n",
    "import matplotlib.pyplot as plt"
   ]
  },
  {
   "cell_type": "code",
   "execution_count": 3,
   "metadata": {},
   "outputs": [],
   "source": [
    "dados_notas = {\n",
    "    \"Bimestre\": [\"1º Bimestre\", \"2º Bimestre\", \"3º Bimestre\", \"4º Bimestre\", \"5º Bimestre\", \"6º Bimestre\"],\n",
    "    \"Turma A\": [7.0, 7.5, 7.2, 7.6, 7.8, 8.0],\n",
    "    \"Turma B\": [6.5, 6.8, 7.0, 7.2, 7.3, 7.5],\n",
    "    \"Turma C\": [8.0, 8.2, 8.1, 8.3, 8.4, 8.5]\n",
    "}"
   ]
  }
 ],
 "metadata": {
  "kernelspec": {
   "display_name": "Python 3",
   "language": "python",
   "name": "python3"
  },
  "language_info": {
   "codemirror_mode": {
    "name": "ipython",
    "version": 3
   },
   "file_extension": ".py",
   "mimetype": "text/x-python",
   "name": "python",
   "nbconvert_exporter": "python",
   "pygments_lexer": "ipython3",
   "version": "3.12.0"
  }
 },
 "nbformat": 4,
 "nbformat_minor": 2
}
