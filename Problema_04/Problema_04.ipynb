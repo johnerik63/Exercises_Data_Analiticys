{
 "cells": [
  {
   "cell_type": "markdown",
   "metadata": {},
   "source": [
    "<img src=\"Problema_04.png\" width=900 heigth=500>"
   ]
  },
  {
   "cell_type": "code",
   "execution_count": 2,
   "metadata": {},
   "outputs": [],
   "source": [
    "import pandas as pd\n",
    "import matplotlib.pyplot as plt"
   ]
  },
  {
   "cell_type": "code",
   "execution_count": 37,
   "metadata": {},
   "outputs": [
    {
     "data": {
      "text/html": [
       "<div>\n",
       "<style scoped>\n",
       "    .dataframe tbody tr th:only-of-type {\n",
       "        vertical-align: middle;\n",
       "    }\n",
       "\n",
       "    .dataframe tbody tr th {\n",
       "        vertical-align: top;\n",
       "    }\n",
       "\n",
       "    .dataframe thead th {\n",
       "        text-align: right;\n",
       "    }\n",
       "</style>\n",
       "<table border=\"1\" class=\"dataframe\">\n",
       "  <thead>\n",
       "    <tr style=\"text-align: right;\">\n",
       "      <th></th>\n",
       "      <th>Mês</th>\n",
       "      <th>Loja A</th>\n",
       "      <th>Loja B</th>\n",
       "      <th>Loja C</th>\n",
       "    </tr>\n",
       "  </thead>\n",
       "  <tbody>\n",
       "    <tr>\n",
       "      <th>0</th>\n",
       "      <td>Janeiro</td>\n",
       "      <td>10000</td>\n",
       "      <td>8000</td>\n",
       "      <td>12000</td>\n",
       "    </tr>\n",
       "    <tr>\n",
       "      <th>1</th>\n",
       "      <td>Fevereiro</td>\n",
       "      <td>11000</td>\n",
       "      <td>8500</td>\n",
       "      <td>13000</td>\n",
       "    </tr>\n",
       "    <tr>\n",
       "      <th>2</th>\n",
       "      <td>Março</td>\n",
       "      <td>11500</td>\n",
       "      <td>8200</td>\n",
       "      <td>14000</td>\n",
       "    </tr>\n",
       "    <tr>\n",
       "      <th>3</th>\n",
       "      <td>Abril</td>\n",
       "      <td>12000</td>\n",
       "      <td>9000</td>\n",
       "      <td>15000</td>\n",
       "    </tr>\n",
       "    <tr>\n",
       "      <th>4</th>\n",
       "      <td>Maio</td>\n",
       "      <td>13000</td>\n",
       "      <td>9500</td>\n",
       "      <td>16000</td>\n",
       "    </tr>\n",
       "    <tr>\n",
       "      <th>5</th>\n",
       "      <td>Junho</td>\n",
       "      <td>14000</td>\n",
       "      <td>10000</td>\n",
       "      <td>17000</td>\n",
       "    </tr>\n",
       "  </tbody>\n",
       "</table>\n",
       "</div>"
      ],
      "text/plain": [
       "         Mês  Loja A  Loja B  Loja C\n",
       "0    Janeiro   10000    8000   12000\n",
       "1  Fevereiro   11000    8500   13000\n",
       "2      Março   11500    8200   14000\n",
       "3      Abril   12000    9000   15000\n",
       "4       Maio   13000    9500   16000\n",
       "5      Junho   14000   10000   17000"
      ]
     },
     "metadata": {},
     "output_type": "display_data"
    }
   ],
   "source": [
    "dados_vendas = {\n",
    "    \"Mês\": [\"Janeiro\", \"Fevereiro\", \"Março\", \"Abril\", \"Maio\", \"Junho\"],\n",
    "    \"Loja A\": [10000, 11000, 11500, 12000, 13000, 14000],\n",
    "    \"Loja B\": [8000, 8500, 8200, 9000, 9500, 10000],\n",
    "    \"Loja C\": [12000, 13000, 14000, 15000, 16000, 17000]\n",
    "}\n",
    "\n",
    "df_vendas = pd.DataFrame(dados_vendas)\n",
    "display(df_vendas)"
   ]
  },
  {
   "cell_type": "markdown",
   "metadata": {},
   "source": [
    "###  1. Qual foi o total de vendas de cada loja nos seis meses?"
   ]
  },
  {
   "cell_type": "code",
   "execution_count": 32,
   "metadata": {},
   "outputs": [
    {
     "name": "stdout",
     "output_type": "stream",
     "text": [
      "O total de somas da Loja A foi R$ 71500.00, da Loja B R$ 53200.00 e da Loja C R$ 87000.00.\n"
     ]
    }
   ],
   "source": [
    "soma_vendas =[v for v in df_vendas.sum()]\n",
    "vendas_LojaA = soma_vendas[1]\n",
    "vendas_LojaB = soma_vendas[2]\n",
    "vendas_LojaC = soma_vendas[3]\n",
    "\n",
    "print(f'O total de somas da Loja A foi R$ {vendas_LojaA:.2f}, da Loja B R$ {vendas_LojaB:.2f} e da Loja C R$ {vendas_LojaC:.2f}.')\n",
    "\n"
   ]
  },
  {
   "cell_type": "markdown",
   "metadata": {},
   "source": [
    "### 2. Qual mês teve a maior venda (somando as três lojas) ??"
   ]
  },
  {
   "cell_type": "code",
   "execution_count": 66,
   "metadata": {},
   "outputs": [
    {
     "data": {
      "text/html": [
       "<div>\n",
       "<style scoped>\n",
       "    .dataframe tbody tr th:only-of-type {\n",
       "        vertical-align: middle;\n",
       "    }\n",
       "\n",
       "    .dataframe tbody tr th {\n",
       "        vertical-align: top;\n",
       "    }\n",
       "\n",
       "    .dataframe thead th {\n",
       "        text-align: right;\n",
       "    }\n",
       "</style>\n",
       "<table border=\"1\" class=\"dataframe\">\n",
       "  <thead>\n",
       "    <tr style=\"text-align: right;\">\n",
       "      <th></th>\n",
       "      <th>Mês</th>\n",
       "      <th>Loja A</th>\n",
       "      <th>Loja B</th>\n",
       "      <th>Loja C</th>\n",
       "      <th>Total_Vendas</th>\n",
       "    </tr>\n",
       "  </thead>\n",
       "  <tbody>\n",
       "    <tr>\n",
       "      <th>0</th>\n",
       "      <td>Janeiro</td>\n",
       "      <td>10000</td>\n",
       "      <td>8000</td>\n",
       "      <td>12000</td>\n",
       "      <td>26000</td>\n",
       "    </tr>\n",
       "    <tr>\n",
       "      <th>1</th>\n",
       "      <td>Fevereiro</td>\n",
       "      <td>11000</td>\n",
       "      <td>8500</td>\n",
       "      <td>13000</td>\n",
       "      <td>28000</td>\n",
       "    </tr>\n",
       "    <tr>\n",
       "      <th>2</th>\n",
       "      <td>Março</td>\n",
       "      <td>11500</td>\n",
       "      <td>8200</td>\n",
       "      <td>14000</td>\n",
       "      <td>27900</td>\n",
       "    </tr>\n",
       "    <tr>\n",
       "      <th>3</th>\n",
       "      <td>Abril</td>\n",
       "      <td>12000</td>\n",
       "      <td>9000</td>\n",
       "      <td>15000</td>\n",
       "      <td>30000</td>\n",
       "    </tr>\n",
       "    <tr>\n",
       "      <th>4</th>\n",
       "      <td>Maio</td>\n",
       "      <td>13000</td>\n",
       "      <td>9500</td>\n",
       "      <td>16000</td>\n",
       "      <td>32000</td>\n",
       "    </tr>\n",
       "    <tr>\n",
       "      <th>5</th>\n",
       "      <td>Junho</td>\n",
       "      <td>14000</td>\n",
       "      <td>10000</td>\n",
       "      <td>17000</td>\n",
       "      <td>34000</td>\n",
       "    </tr>\n",
       "  </tbody>\n",
       "</table>\n",
       "</div>"
      ],
      "text/plain": [
       "         Mês  Loja A  Loja B  Loja C  Total_Vendas\n",
       "0    Janeiro   10000    8000   12000         26000\n",
       "1  Fevereiro   11000    8500   13000         28000\n",
       "2      Março   11500    8200   14000         27900\n",
       "3      Abril   12000    9000   15000         30000\n",
       "4       Maio   13000    9500   16000         32000\n",
       "5      Junho   14000   10000   17000         34000"
      ]
     },
     "metadata": {},
     "output_type": "display_data"
    },
    {
     "name": "stdout",
     "output_type": "stream",
     "text": [
      "O mes com maior venda (somando os tres meses) foi o mes de Junho com 41000.\n"
     ]
    }
   ],
   "source": [
    "df_vendas[\"Total_Vendas\"] = df_vendas[\"Loja A\"] + df_vendas[\"Loja B\"] + df_vendas[\"Loja B\"]\n",
    "mes_maior_vendas = df_vendas.loc[df_vendas[\"Total_Vendas\"].idxmax()]\n",
    "display(df_vendas)\n",
    "print(f\"O mes com maior venda (somando os tres meses) foi o mes de {mes_maior_vendas[\"Mês\"]} com {df_vendas[df_vendas['Mês'] == 'Junho']\n",
    "[['Loja A', 'Loja B', 'Loja C']].sum(axis=1).values[0]}.\")\n",
    "\n",
    "\n",
    "\n"
   ]
  },
  {
   "cell_type": "markdown",
   "metadata": {},
   "source": [
    "### 3. Plote um grafico de barras mostrando as vendas de cada mês."
   ]
  },
  {
   "cell_type": "code",
   "execution_count": 74,
   "metadata": {},
   "outputs": [
    {
     "data": {
      "text/plain": [
       "Text(0, 0.5, 'Vendas')"
      ]
     },
     "execution_count": 74,
     "metadata": {},
     "output_type": "execute_result"
    },
    {
     "data": {
      "image/png": "[encoded data removed]",
      "text/plain": [
       "<Figure size 640x480 with 1 Axes>"
      ]
     },
     "metadata": {},
     "output_type": "display_data"
    }
   ],
   "source": [
    "df_vendas.plot(kind='bar')\n",
    "plt.title(\"Vendas Lojas x Mês\")\n",
    "plt.xlabel(\"Mês\", size=15)\n",
    "plt.ylabel(\"Vendas\", size= 15)"
   ]
  },
  {
   "cell_type": "markdown",
   "metadata": {},
   "source": [
    "\n",
    "### 4. Qual loja teve o maior crescimento de vendas entre janeiro e junho??"
   ]
  },
  {
   "cell_type": "code",
   "execution_count": 94,
   "metadata": {},
   "outputs": [
    {
     "data": {
      "text/html": [
       "<div>\n",
       "<style scoped>\n",
       "    .dataframe tbody tr th:only-of-type {\n",
       "        vertical-align: middle;\n",
       "    }\n",
       "\n",
       "    .dataframe tbody tr th {\n",
       "        vertical-align: top;\n",
       "    }\n",
       "\n",
       "    .dataframe thead th {\n",
       "        text-align: right;\n",
       "    }\n",
       "</style>\n",
       "<table border=\"1\" class=\"dataframe\">\n",
       "  <thead>\n",
       "    <tr style=\"text-align: right;\">\n",
       "      <th></th>\n",
       "      <th>Mês</th>\n",
       "      <th>Loja A</th>\n",
       "      <th>Loja B</th>\n",
       "      <th>Loja C</th>\n",
       "      <th>Total_Vendas</th>\n",
       "      <th>Crescimento_LojaA</th>\n",
       "      <th>Crescimento_LojaB</th>\n",
       "      <th>Crescimento_LojaC</th>\n",
       "    </tr>\n",
       "  </thead>\n",
       "  <tbody>\n",
       "    <tr>\n",
       "      <th>0</th>\n",
       "      <td>Janeiro</td>\n",
       "      <td>10000</td>\n",
       "      <td>8000</td>\n",
       "      <td>12000</td>\n",
       "      <td>26000</td>\n",
       "      <td>0.0</td>\n",
       "      <td>0.00</td>\n",
       "      <td>0.00</td>\n",
       "    </tr>\n",
       "    <tr>\n",
       "      <th>1</th>\n",
       "      <td>Fevereiro</td>\n",
       "      <td>11000</td>\n",
       "      <td>8500</td>\n",
       "      <td>13000</td>\n",
       "      <td>28000</td>\n",
       "      <td>10.0</td>\n",
       "      <td>6.25</td>\n",
       "      <td>8.33</td>\n",
       "    </tr>\n",
       "    <tr>\n",
       "      <th>2</th>\n",
       "      <td>Março</td>\n",
       "      <td>11500</td>\n",
       "      <td>8200</td>\n",
       "      <td>14000</td>\n",
       "      <td>27900</td>\n",
       "      <td>15.0</td>\n",
       "      <td>2.50</td>\n",
       "      <td>16.67</td>\n",
       "    </tr>\n",
       "    <tr>\n",
       "      <th>3</th>\n",
       "      <td>Abril</td>\n",
       "      <td>12000</td>\n",
       "      <td>9000</td>\n",
       "      <td>15000</td>\n",
       "      <td>30000</td>\n",
       "      <td>20.0</td>\n",
       "      <td>12.50</td>\n",
       "      <td>25.00</td>\n",
       "    </tr>\n",
       "    <tr>\n",
       "      <th>4</th>\n",
       "      <td>Maio</td>\n",
       "      <td>13000</td>\n",
       "      <td>9500</td>\n",
       "      <td>16000</td>\n",
       "      <td>32000</td>\n",
       "      <td>30.0</td>\n",
       "      <td>18.75</td>\n",
       "      <td>33.33</td>\n",
       "    </tr>\n",
       "    <tr>\n",
       "      <th>5</th>\n",
       "      <td>Junho</td>\n",
       "      <td>14000</td>\n",
       "      <td>10000</td>\n",
       "      <td>17000</td>\n",
       "      <td>34000</td>\n",
       "      <td>40.0</td>\n",
       "      <td>25.00</td>\n",
       "      <td>41.67</td>\n",
       "    </tr>\n",
       "  </tbody>\n",
       "</table>\n",
       "</div>"
      ],
      "text/plain": [
       "         Mês  Loja A  Loja B  Loja C  Total_Vendas  Crescimento_LojaA  \\\n",
       "0    Janeiro   10000    8000   12000         26000                0.0   \n",
       "1  Fevereiro   11000    8500   13000         28000               10.0   \n",
       "2      Março   11500    8200   14000         27900               15.0   \n",
       "3      Abril   12000    9000   15000         30000               20.0   \n",
       "4       Maio   13000    9500   16000         32000               30.0   \n",
       "5      Junho   14000   10000   17000         34000               40.0   \n",
       "\n",
       "   Crescimento_LojaB  Crescimento_LojaC  \n",
       "0               0.00               0.00  \n",
       "1               6.25               8.33  \n",
       "2               2.50              16.67  \n",
       "3              12.50              25.00  \n",
       "4              18.75              33.33  \n",
       "5              25.00              41.67  "
      ]
     },
     "metadata": {},
     "output_type": "display_data"
    },
    {
     "name": "stdout",
     "output_type": "stream",
     "text": [
      "O maior crescimento percentual foi o Crescimento_LojaC com um crescimento de 41.67%.\n"
     ]
    }
   ],
   "source": [
    "display(df_vendas)\n",
    "df_vendas['Crescimento_LojaA'] = ((df_vendas['Loja A'] - df_vendas['Loja A'].iloc[0])/df_vendas['Loja A'].iloc[0])*100\n",
    "df_vendas['Crescimento_LojaB'] = ((df_vendas['Loja B'] - df_vendas['Loja B'].iloc[0])/df_vendas['Loja B'].iloc[0])*100\n",
    "df_vendas['Crescimento_LojaC'] = round(((df_vendas['Loja C'] - df_vendas['Loja C'].iloc[0])/df_vendas['Loja C'].iloc[0])*100, 2)\n",
    "\n",
    "crescimento_lojas = df_vendas[['Crescimento_LojaA', 'Crescimento_LojaB', 'Crescimento_LojaC']].iloc[-1]\n",
    "print(f'O maior crescimento percentual foi o {crescimento_lojas.idxmax()} com um crescimento de {crescimento_lojas.max()}%.')\n",
    "\n",
    "\n"
   ]
  },
  {
   "cell_type": "markdown",
   "metadata": {},
   "source": [
    "### 5. Calcule a media das vendas de cada loja durante o semestre."
   ]
  },
  {
   "cell_type": "code",
   "execution_count": 103,
   "metadata": {},
   "outputs": [
    {
     "name": "stdout",
     "output_type": "stream",
     "text": [
      "A media de vendas da Loja A foi: 11916.67.\n",
      "A media de vendas da Loja B foi: 8866.67.\n",
      "A media de vendas da Loja C foi: 14500.00.\n"
     ]
    }
   ],
   "source": [
    "media_vendas_LojaA = df_vendas['Loja A'].mean()\n",
    "media_vendas_LojaB = df_vendas['Loja B'].mean()\n",
    "media_vendas_LojaC = df_vendas['Loja C'].mean()\n",
    "\n",
    "print(f'A media de vendas da Loja A foi: {media_vendas_LojaA:.2f}.')\n",
    "print(f'A media de vendas da Loja B foi: {media_vendas_LojaB:.2f}.')\n",
    "print(f'A media de vendas da Loja C foi: {media_vendas_LojaC:.2f}.')"
   ]
  }
 ],
 "metadata": {
  "kernelspec": {
   "display_name": "Python 3",
   "language": "python",
   "name": "python3"
  },
  "language_info": {
   "codemirror_mode": {
    "name": "ipython",
    "version": 3
   },
   "file_extension": ".py",
   "mimetype": "text/x-python",
   "name": "python",
   "nbconvert_exporter": "python",
   "pygments_lexer": "ipython3",
   "version": "3.12.6"
  }
 },
 "nbformat": 4,
 "nbformat_minor": 2
}
